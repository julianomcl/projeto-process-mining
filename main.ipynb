{
 "cells": [
  {
   "cell_type": "code",
   "execution_count": null,
   "outputs": [],
   "source": [
    "!pip install pm4py"
   ],
   "metadata": {
    "collapsed": false,
    "pycharm": {
     "name": "#%%\n"
    }
   }
  },
  {
   "cell_type": "code",
   "execution_count": null,
   "outputs": [],
   "source": [
    "from pm4py.objects.log.importer.xes import importer as xes_importer\n",
    "from pprint import pprint"
   ],
   "metadata": {
    "collapsed": false,
    "pycharm": {
     "name": "#%%\n"
    }
   }
  },
  {
   "cell_type": "code",
   "execution_count": null,
   "outputs": [],
   "source": [
    "xes_log_path = 'simulation_logs.xes.gz'\n",
    "log = xes_importer.apply(xes_log_path)"
   ],
   "metadata": {
    "collapsed": false,
    "pycharm": {
     "name": "#%%\n"
    }
   }
  },
  {
   "cell_type": "code",
   "execution_count": null,
   "outputs": [],
   "source": [
    "activities = set()\n",
    "\n",
    "for trace in log:\n",
    "  # print(trace)\n",
    "  for event in trace:\n",
    "    if event['concept:name'] not in ['EVENT 1 START', 'EVENT 31 END', 'EVENT 32 END', 'EVENT 47 END']: # TODO ver uma forma de remover os START e END das atividades\n",
    "      activities.add(event['concept:name'])\n",
    "\n",
    "activities = sorted(activities)\n",
    "\n",
    "print(activities)"
   ],
   "metadata": {
    "collapsed": false,
    "pycharm": {
     "name": "#%%\n"
    }
   }
  },
  {
   "cell_type": "code",
   "execution_count": null,
   "outputs": [],
   "source": [
    "table = []\n",
    "table.append(['#'])\n",
    "for activity in activities:\n",
    "  table[0].append(activity)\n",
    "  table.append([activity])\n",
    "\n",
    "for row in table[1:]:\n",
    "  for activity in activities:\n",
    "    row.append(' ')\n",
    "\n",
    "for i in range(len(table)):\n",
    "  for j in range(len(table[i])):\n",
    "    if i == j:\n",
    "      table[i][j] = '#'\n",
    "\n",
    "for row in table:\n",
    "  print(row)"
   ],
   "metadata": {
    "collapsed": false,
    "pycharm": {
     "name": "#%%\n"
    }
   }
  },
  {
   "cell_type": "code",
   "execution_count": null,
   "outputs": [],
   "source": [
    "relations = set()\n",
    "\n",
    "for trace in log:\n",
    "  for i in range(len(trace[0:-1])):\n",
    "    relations.add(trace[i]['concept:name'] + ' > ' + trace[i+1]['concept:name'])\n",
    "    # relations.add()\n",
    "\n",
    "print(sorted(relations))"
   ],
   "metadata": {
    "collapsed": false,
    "pycharm": {
     "name": "#%%\n"
    }
   }
  }
 ],
 "metadata": {
  "kernelspec": {
   "display_name": "Python 3",
   "language": "python",
   "name": "python3"
  },
  "language_info": {
   "codemirror_mode": {
    "name": "ipython",
    "version": 2
   },
   "file_extension": ".py",
   "mimetype": "text/x-python",
   "name": "python",
   "nbconvert_exporter": "python",
   "pygments_lexer": "ipython2",
   "version": "2.7.6"
  }
 },
 "nbformat": 4,
 "nbformat_minor": 0
}